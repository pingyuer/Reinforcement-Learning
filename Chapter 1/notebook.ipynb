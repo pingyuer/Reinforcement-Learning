{
 "cells": [
  {
   "cell_type": "markdown",
   "metadata": {},
   "source": [
    "# 多臂赌博机\n",
    "\n",
    "## 2.3 10臂测试平台\n",
    "\n",
    "在2000个随机生成的k壁赌博机问题，k=10。\n",
    "\n",
    "在这里做了10个赌博机，即E_nrom和E_std产生了10个随机变量。$\\epsilon$分别选择了0, 0.01和0.1。书中提到赌博机的准确率是$1 - \\epsilon$，因此理论上随着实验进行0.01会达到最优。"
   ]
  },
  {
   "cell_type": "code",
   "execution_count": 51,
   "metadata": {},
   "outputs": [
    {
     "data": {
      "image/png": "[encoded data removed]",
      "text/plain": [
       "<Figure size 640x480 with 1 Axes>"
      ]
     },
     "metadata": {},
     "output_type": "display_data"
    }
   ],
   "source": [
    "import numpy as np\n",
    "\n",
    "\n",
    "E_norm = np.random.normal(0, 1, 10)\n",
    "E_std = map(abs, np.random.normal(0, 1, 10))\n",
    "\n",
    "\n",
    "E = list(zip(E_norm, E_std))\n",
    "\n",
    "class A:\n",
    "    def __init__(self, k, epsilon):\n",
    "        self.epsilon = epsilon\n",
    "        self.k = k\n",
    "        self.q_star = [2 for _ in range(k)]\n",
    "        self.q_cnt = [0 for _ in range(k)]\n",
    "        self.q_sum = [0 for _ in range(k)]\n",
    "\n",
    "    def roll(self):\n",
    "        if np.random.rand() > self.epsilon:\n",
    "            return np.argmax(self.q_star)\n",
    "        return np.random.randint(0, self.k)\n",
    "\n",
    "    def setq(self, k, v):\n",
    "        self.q_sum[k] += v\n",
    "        self.q_cnt[k] += 1\n",
    "        self.q_star[k] = self.q_sum[k] / self.q_cnt[k]\n",
    "\n",
    "def round_r(a: A, ep: int):\n",
    "    ret = [0 for _ in range(ep + 1)]\n",
    "    for i in range(1, (ep + 1)):\n",
    "        ret[i] += ret[i - 1]\n",
    "        select_k = a.roll()\n",
    "        reward = np.random.normal(*E[select_k])\n",
    "        ret[i] +=  reward\n",
    "        a.setq(select_k, reward)\n",
    "    \n",
    "    for i in range(1, (ep + 1)):\n",
    "        ret[i] /= i\n",
    "    return ret[1:]\n",
    "\n",
    "ep = 20000\n",
    "a_1 = A(10, 0.01)\n",
    "ret_1 = round_r(a_1, ep) \n",
    "\n",
    "a_2 = A(10, 0.1)\n",
    "ret_2 = round_r(a_2, ep)\n",
    "\n",
    "a_3 = A(10, 0)\n",
    "ret_3 = round_r(a_3, ep)\n",
    "\n",
    "import matplotlib.pyplot as plt\n",
    "axi = np.arange(1, ep + 1)\n",
    "plt.plot(axi, ret_1, label='0.01')\n",
    "plt.plot(axi, ret_2, label='0.1')\n",
    "plt.plot(axi, ret_3, label='0')\n",
    "plt.legend()\n",
    "plt.show()\n",
    "\n",
    "\n"
   ]
  },
  {
   "cell_type": "markdown",
   "metadata": {},
   "source": [
    "## 基于置信度上界的动作选择\n",
    "\n",
    "动作-价值估值函数总会存在不确定性，所以试探是必须的。\n",
    "\n",
    "$A_t \\dot= \\underset{a}{argmax} [Q_t (a) + c \\sqrt{\\frac{lnt}{N_t (a)}}]$\n",
    "\n",
    "其中 $N_t (a)$代表选择a的次数。\n",
    "\n",
    "\n",
    "## 梯度赌博机算法\n",
    "\n",
    "\n",
    "$ H_{t + 1} (A_t) \\dot= H_t (A_t) + a(R_t - \\overline{R}_t) (1 - \\pi_t(A_t))$\n",
    "\n",
    "\n",
    "$H_{t + 1} \\dot= H_t(a) - a(R_t - \\overline{R}_t) \\pi_t(a) \\space s.t. a \\neq A_t$\n",
    "\n",
    "\n",
    "$\\overline{R}_t \\in \\mathbb{R}$ 是再时间$t$内收益的平均值。"
   ]
  },
  {
   "cell_type": "code",
   "execution_count": null,
   "metadata": {},
   "outputs": [],
   "source": []
  }
 ],
 "metadata": {
  "kernelspec": {
   "display_name": "Python 3.8.13 ('torch')",
   "language": "python",
   "name": "python3"
  },
  "language_info": {
   "codemirror_mode": {
    "name": "ipython",
    "version": 3
   },
   "file_extension": ".py",
   "mimetype": "text/x-python",
   "name": "python",
   "nbconvert_exporter": "python",
   "pygments_lexer": "ipython3",
   "version": "3.8.13"
  },
  "orig_nbformat": 4,
  "vscode": {
   "interpreter": {
    "hash": "70d5e82e9b107d01eef5e6ccb93868ea51f079b7eb493cdb7bb0a5c30d79c2e1"
   }
  }
 },
 "nbformat": 4,
 "nbformat_minor": 2
}
